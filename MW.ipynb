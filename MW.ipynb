{
 "cells": [
  {
   "cell_type": "code",
   "execution_count": 2,
   "metadata": {
    "collapsed": true
   },
   "outputs": [],
   "source": [
    "import numpy as np\n",
    "import matplotlib.pyplot as plt\n",
    "import numpy.polynomial.legendre as leg\n",
    "\n",
    "import scaling as sc\n",
    "\n",
    "\n",
    "def gauss(x):\n",
    "    return np.exp(-100*(x-.5)**2)\n",
    "\n",
    "def ftest(x):\n",
    "    return np.sin(2.0*np.pi*x)\n",
    "\n",
    "def interpolating(order,max_order,x):\n",
    "    w = sc.weights(max_order)\n",
    "    x_root = sc.roots(max_order)\n",
    "    tmp = 0\n",
    "    \n",
    "    for i in range(0,max_order):\n",
    "        tmp = tmp + np.sqrt(w[i])*sc.legendre_polynomial(order,float(x_root[i]))*sc.legendre_polynomial(order,x)\n",
    "    return tmp\n",
    "\n",
    "def scaling_coef_inter(order,order_max,scale,translation,f):\n",
    "\n",
    "    w = sc.weights(order_max)\n",
    "    x = sc.roots(order_max)\n",
    "    \n",
    "    return 2.0**(-.5*scale)*np.sqrt(w[order])*f(2**(-scale)*(x[order]+translation))\n",
    "\n",
    "def scaling_inter(order,max_order, scale, translation, x):\n",
    "    return 2**(scale/2)*interpolating(order,max_order,2**scale*x-translation)\n",
    "\n",
    "def func_proj_inter(scale,max_order,f,x):\n",
    "    tmp = 0\n",
    "    for j in range(0,max_order+1):\n",
    "        for l in range(0,2**scale):\n",
    "            tmp = tmp+scaling_coef_inter(j,max_order,scale,l,f)*scaling_inter(j,max_order,scale,l,x)\n",
    "    return tmp"
   ]
  },
  {
   "cell_type": "code",
   "execution_count": 2,
   "metadata": {},
   "outputs": [
    {
     "data": {
      "image/png": "[encoded data removed]",
      "text/plain": [
       "<matplotlib.figure.Figure at 0x7f7fdba2fc18>"
      ]
     },
     "metadata": {},
     "output_type": "display_data"
    }
   ],
   "source": [
    "x = np.arange(0,1,.01)\n",
    "plt.plot(x,np.sin(x),x,sc.func_proj(0,20,np.sin,x))\n",
    "plt.show()"
   ]
  },
  {
   "cell_type": "code",
   "execution_count": 26,
   "metadata": {},
   "outputs": [
    {
     "ename": "IndexError",
     "evalue": "index 5 is out of bounds for axis 0 with size 5",
     "output_type": "error",
     "traceback": [
      "\u001b[0;31m---------------------------------------------------------------------------\u001b[0m",
      "\u001b[0;31mIndexError\u001b[0m                                Traceback (most recent call last)",
      "\u001b[0;32m<ipython-input-26-53029d0cbac3>\u001b[0m in \u001b[0;36m<module>\u001b[0;34m()\u001b[0m\n\u001b[1;32m      1\u001b[0m \u001b[0mx\u001b[0m \u001b[0;34m=\u001b[0m \u001b[0mnp\u001b[0m\u001b[0;34m.\u001b[0m\u001b[0marange\u001b[0m\u001b[0;34m(\u001b[0m\u001b[0;36m0\u001b[0m\u001b[0;34m,\u001b[0m\u001b[0;36m1\u001b[0m\u001b[0;34m,\u001b[0m\u001b[0;36m.003\u001b[0m\u001b[0;34m)\u001b[0m\u001b[0;34m\u001b[0m\u001b[0m\n\u001b[0;32m----> 2\u001b[0;31m \u001b[0mplt\u001b[0m\u001b[0;34m.\u001b[0m\u001b[0mplot\u001b[0m\u001b[0;34m(\u001b[0m\u001b[0mx\u001b[0m\u001b[0;34m,\u001b[0m\u001b[0mgauss\u001b[0m\u001b[0;34m(\u001b[0m\u001b[0mx\u001b[0m\u001b[0;34m)\u001b[0m\u001b[0;34m,\u001b[0m\u001b[0mx\u001b[0m\u001b[0;34m,\u001b[0m\u001b[0mfunc_proj_inter\u001b[0m\u001b[0;34m(\u001b[0m\u001b[0;36m5\u001b[0m\u001b[0;34m,\u001b[0m\u001b[0;36m5\u001b[0m\u001b[0;34m,\u001b[0m\u001b[0mgauss\u001b[0m\u001b[0;34m,\u001b[0m\u001b[0mx\u001b[0m\u001b[0;34m)\u001b[0m\u001b[0;34m)\u001b[0m\u001b[0;34m\u001b[0m\u001b[0m\n\u001b[0m\u001b[1;32m      3\u001b[0m \u001b[0mplt\u001b[0m\u001b[0;34m.\u001b[0m\u001b[0mshow\u001b[0m\u001b[0;34m(\u001b[0m\u001b[0;34m)\u001b[0m\u001b[0;34m\u001b[0m\u001b[0m\n",
      "\u001b[0;32m<ipython-input-24-22d3897de04a>\u001b[0m in \u001b[0;36mfunc_proj_inter\u001b[0;34m(scale, max_order, f, x)\u001b[0m\n\u001b[1;32m     34\u001b[0m     \u001b[0;32mfor\u001b[0m \u001b[0mj\u001b[0m \u001b[0;32min\u001b[0m \u001b[0mrange\u001b[0m\u001b[0;34m(\u001b[0m\u001b[0;36m0\u001b[0m\u001b[0;34m,\u001b[0m\u001b[0mmax_order\u001b[0m\u001b[0;34m+\u001b[0m\u001b[0;36m1\u001b[0m\u001b[0;34m)\u001b[0m\u001b[0;34m:\u001b[0m\u001b[0;34m\u001b[0m\u001b[0m\n\u001b[1;32m     35\u001b[0m         \u001b[0;32mfor\u001b[0m \u001b[0ml\u001b[0m \u001b[0;32min\u001b[0m \u001b[0mrange\u001b[0m\u001b[0;34m(\u001b[0m\u001b[0;36m0\u001b[0m\u001b[0;34m,\u001b[0m\u001b[0;36m2\u001b[0m\u001b[0;34m**\u001b[0m\u001b[0mscale\u001b[0m\u001b[0;34m)\u001b[0m\u001b[0;34m:\u001b[0m\u001b[0;34m\u001b[0m\u001b[0m\n\u001b[0;32m---> 36\u001b[0;31m             \u001b[0mtmp\u001b[0m \u001b[0;34m=\u001b[0m \u001b[0mtmp\u001b[0m\u001b[0;34m+\u001b[0m\u001b[0mscaling_coef_inter\u001b[0m\u001b[0;34m(\u001b[0m\u001b[0mj\u001b[0m\u001b[0;34m,\u001b[0m\u001b[0mmax_order\u001b[0m\u001b[0;34m,\u001b[0m\u001b[0mscale\u001b[0m\u001b[0;34m,\u001b[0m\u001b[0ml\u001b[0m\u001b[0;34m,\u001b[0m\u001b[0mf\u001b[0m\u001b[0;34m)\u001b[0m\u001b[0;34m*\u001b[0m\u001b[0mscaling_inter\u001b[0m\u001b[0;34m(\u001b[0m\u001b[0mj\u001b[0m\u001b[0;34m,\u001b[0m\u001b[0mmax_order\u001b[0m\u001b[0;34m,\u001b[0m\u001b[0mscale\u001b[0m\u001b[0;34m,\u001b[0m\u001b[0ml\u001b[0m\u001b[0;34m,\u001b[0m\u001b[0mx\u001b[0m\u001b[0;34m)\u001b[0m\u001b[0;34m\u001b[0m\u001b[0m\n\u001b[0m\u001b[1;32m     37\u001b[0m     \u001b[0;32mreturn\u001b[0m \u001b[0mtmp\u001b[0m\u001b[0;34m\u001b[0m\u001b[0m\n",
      "\u001b[0;32m<ipython-input-24-22d3897de04a>\u001b[0m in \u001b[0;36mscaling_coef_inter\u001b[0;34m(order, order_max, scale, translation, f)\u001b[0m\n\u001b[1;32m     25\u001b[0m     \u001b[0mx\u001b[0m \u001b[0;34m=\u001b[0m \u001b[0msc\u001b[0m\u001b[0;34m.\u001b[0m\u001b[0mroots\u001b[0m\u001b[0;34m(\u001b[0m\u001b[0morder_max\u001b[0m\u001b[0;34m)\u001b[0m\u001b[0;34m\u001b[0m\u001b[0m\n\u001b[1;32m     26\u001b[0m \u001b[0;34m\u001b[0m\u001b[0m\n\u001b[0;32m---> 27\u001b[0;31m     \u001b[0;32mreturn\u001b[0m \u001b[0;36m2.0\u001b[0m\u001b[0;34m**\u001b[0m\u001b[0;34m(\u001b[0m\u001b[0;34m-\u001b[0m\u001b[0;36m.5\u001b[0m\u001b[0;34m*\u001b[0m\u001b[0mscale\u001b[0m\u001b[0;34m)\u001b[0m\u001b[0;34m*\u001b[0m\u001b[0mnp\u001b[0m\u001b[0;34m.\u001b[0m\u001b[0msqrt\u001b[0m\u001b[0;34m(\u001b[0m\u001b[0mw\u001b[0m\u001b[0;34m[\u001b[0m\u001b[0morder\u001b[0m\u001b[0;34m]\u001b[0m\u001b[0;34m)\u001b[0m\u001b[0;34m*\u001b[0m\u001b[0mf\u001b[0m\u001b[0;34m(\u001b[0m\u001b[0;36m2\u001b[0m\u001b[0;34m**\u001b[0m\u001b[0;34m(\u001b[0m\u001b[0;34m-\u001b[0m\u001b[0mscale\u001b[0m\u001b[0;34m)\u001b[0m\u001b[0;34m*\u001b[0m\u001b[0;34m(\u001b[0m\u001b[0mx\u001b[0m\u001b[0;34m[\u001b[0m\u001b[0morder\u001b[0m\u001b[0;34m]\u001b[0m\u001b[0;34m+\u001b[0m\u001b[0mtranslation\u001b[0m\u001b[0;34m)\u001b[0m\u001b[0;34m)\u001b[0m\u001b[0;34m\u001b[0m\u001b[0m\n\u001b[0m\u001b[1;32m     28\u001b[0m \u001b[0;34m\u001b[0m\u001b[0m\n\u001b[1;32m     29\u001b[0m \u001b[0;32mdef\u001b[0m \u001b[0mscaling_inter\u001b[0m\u001b[0;34m(\u001b[0m\u001b[0morder\u001b[0m\u001b[0;34m,\u001b[0m\u001b[0mmax_order\u001b[0m\u001b[0;34m,\u001b[0m \u001b[0mscale\u001b[0m\u001b[0;34m,\u001b[0m \u001b[0mtranslation\u001b[0m\u001b[0;34m,\u001b[0m \u001b[0mx\u001b[0m\u001b[0;34m)\u001b[0m\u001b[0;34m:\u001b[0m\u001b[0;34m\u001b[0m\u001b[0m\n",
      "\u001b[0;31mIndexError\u001b[0m: index 5 is out of bounds for axis 0 with size 5"
     ]
    }
   ],
   "source": [
    "x = np.arange(0,1,.003)\n",
    "plt.plot(x,gauss(x),x,func_proj_inter(5,5,gauss,x))\n",
    "plt.show()"
   ]
  },
  {
   "cell_type": "code",
   "execution_count": 3,
   "metadata": {},
   "outputs": [
    {
     "data": {
      "image/png": "[encoded data removed]",
      "text/plain": [
       "<matplotlib.figure.Figure at 0x7fb26d4bc780>"
      ]
     },
     "metadata": {},
     "output_type": "display_data"
    }
   ],
   "source": [
    "x = np.arange(0,1,.0003)\n",
    "plt.plot(x,ftest(x),x,sc.func_proj(5,5,ftest,x))\n",
    "plt.grid(True)\n",
    "plt.show()"
   ]
  },
  {
   "cell_type": "code",
   "execution_count": 11,
   "metadata": {},
   "outputs": [
    {
     "name": "stdout",
     "output_type": "stream",
     "text": [
      "[ 0.5  0.5]\n",
      "-1.24126707662e-16\n",
      "-1.09512604483e-23\n",
      "1.21931585185e-16\n"
     ]
    },
    {
     "data": {
      "text/plain": [
       "8.6218650724822528e-17"
      ]
     },
     "execution_count": 11,
     "metadata": {},
     "output_type": "execute_result"
    }
   ],
   "source": [
    "scaling_coef(2,1,0,gauss)"
   ]
  },
  {
   "cell_type": "code",
   "execution_count": 7,
   "metadata": {},
   "outputs": [
    {
     "data": {
      "text/plain": [
       "array([ 0.01591988,  0.08198445,  0.19331428,  0.33787329,  0.5       ,\n",
       "        0.66212671,  0.80668572,  0.91801555,  0.98408012])"
      ]
     },
     "execution_count": 7,
     "metadata": {},
     "output_type": "execute_result"
    }
   ],
   "source": [
    "sc.roots(9)"
   ]
  },
  {
   "cell_type": "code",
   "execution_count": 125,
   "metadata": {
    "collapsed": true
   },
   "outputs": [],
   "source": [
    "from scipy import optimize\n",
    "root = optimize.brenth(seclegendre,0,.3)"
   ]
  },
  {
   "cell_type": "code",
   "execution_count": 46,
   "metadata": {},
   "outputs": [
    {
     "data": {
      "text/plain": [
       "array([ 0.06943184,  0.33000948,  0.66999052,  0.93056816])"
      ]
     },
     "execution_count": 46,
     "metadata": {},
     "output_type": "execute_result"
    }
   ],
   "source": [
    "sc.roots(4)"
   ]
  },
  {
   "cell_type": "code",
   "execution_count": 129,
   "metadata": {},
   "outputs": [
    {
     "name": "stdout",
     "output_type": "stream",
     "text": [
      "<class 'numpy.float64'>\n",
      "0.0\n",
      "(100,)\n",
      "<class 'numpy.float64'>\n",
      "0.0\n",
      "(100,)\n",
      "<class 'numpy.float64'>\n",
      "0.0\n",
      "(100,)\n",
      "<class 'numpy.float64'>\n",
      "0.0\n",
      "(100,)\n",
      "<class 'numpy.float64'>\n",
      "0.0\n",
      "(100,)\n",
      "<class 'numpy.float64'>\n",
      "0.0\n",
      "(100,)\n",
      "<class 'numpy.float64'>\n",
      "0.0\n",
      "(100,)\n",
      "<class 'numpy.float64'>\n",
      "0.0\n",
      "(100,)\n",
      "<class 'numpy.float64'>\n",
      "-2.25638958217e-26\n",
      "7.48003264149e-23\n",
      "(100,)\n",
      "<class 'numpy.float64'>\n",
      "-6.55701474154e-22\n",
      "3.57246147442e-19\n",
      "(100,)\n",
      "<class 'numpy.float64'>\n",
      "-8.37197606898e-19\n",
      "7.43810389665e-17\n",
      "(100,)\n",
      "<class 'numpy.float64'>\n",
      "-4.69655638318e-17\n",
      "6.47598160423e-16\n",
      "(100,)\n",
      "<class 'numpy.float64'>\n",
      "-1.15760620709e-16\n",
      "1.66032762281e-16\n",
      "(100,)\n",
      "<class 'numpy.float64'>\n",
      "-1.25363727622e-17\n",
      "-7.51318712085e-18\n",
      "(100,)\n",
      "<class 'numpy.float64'>\n",
      "-5.96503081527e-20\n",
      "-5.57160993078e-20\n",
      "(100,)\n",
      "<class 'numpy.float64'>\n",
      "-1.24704817185e-23\n",
      "-1.23350983435e-23\n",
      "(100,)\n",
      "<class 'numpy.float64'>\n",
      "1.81784530875e-26\n",
      "1.92464930072e-24\n",
      "4.53692077466e-23\n",
      "(100,)\n",
      "<class 'numpy.float64'>\n",
      "7.18947986128e-22\n",
      "2.31960820846e-20\n",
      "1.7588811438e-19\n",
      "(100,)\n",
      "<class 'numpy.float64'>\n",
      "1.24930294387e-18\n",
      "1.28927466687e-17\n",
      "3.64718403244e-17\n",
      "(100,)\n",
      "<class 'numpy.float64'>\n",
      "9.53823018988e-17\n",
      "3.60385859603e-16\n",
      "5.203665562e-16\n",
      "(100,)\n",
      "<class 'numpy.float64'>\n",
      "3.19961393194e-16\n",
      "5.84964950898e-16\n",
      "6.32656101847e-16\n",
      "(100,)\n",
      "<class 'numpy.float64'>\n",
      "4.71581873113e-17\n",
      "5.88016310362e-17\n",
      "5.94262825081e-17\n",
      "(100,)\n",
      "<class 'numpy.float64'>\n",
      "3.0538406459e-19\n",
      "3.27861198688e-19\n",
      "3.28220672681e-19\n",
      "(100,)\n",
      "<class 'numpy.float64'>\n",
      "8.68891168918e-23\n",
      "8.87955877394e-23\n",
      "8.8804676966e-23\n",
      "(100,)\n"
     ]
    },
    {
     "data": {
      "text/plain": [
       "array([  4.72229737e-23,   6.67781067e-23,   6.04600049e-23,\n",
       "         3.56436582e-23,  -2.95943701e-25,  -3.99838110e-23,\n",
       "        -7.60449539e-23,  -1.01104383e-22,  -1.07787107e-22,\n",
       "        -8.87181385e-23,  -3.65224861e-23,   5.61748395e-23,\n",
       "         1.96748828e-22,   3.51050335e-19,   3.12495652e-19,\n",
       "         1.99481302e-19,   4.05987697e-20,  -1.35560460e-19,\n",
       "        -3.00404900e-19,  -4.25343067e-19,  -4.81783474e-19,\n",
       "        -4.41134635e-19,  -2.74805066e-19,   4.57967189e-20,\n",
       "         5.49262206e-19,   7.10898229e-17,   7.14748554e-17,\n",
       "         5.47719656e-17,   2.56456493e-17,  -9.97541500e-18,\n",
       "        -4.61625487e-17,  -7.69870732e-17,  -9.65203101e-17,\n",
       "        -9.88335806e-17,  -7.79982063e-17,  -2.80855086e-17,\n",
       "         5.68331911e-17,   1.82686571e-16,   3.34199663e-16,\n",
       "         5.89169060e-16,   5.53556720e-16,   3.11950806e-16,\n",
       "        -5.10605166e-17,  -4.50889082e-16,  -8.02946726e-16,\n",
       "        -1.02264528e-15,  -1.02539659e-15,  -7.26612478e-16,\n",
       "        -4.17047845e-17,   1.11391466e-15,   1.52224384e-15,\n",
       "        -1.63881246e-16,   4.63423199e-16,   6.82164557e-16,\n",
       "         5.95184215e-16,   3.05323560e-16,  -8.45760196e-17,\n",
       "        -4.71673137e-16,  -7.53126403e-16,  -8.26094432e-16,\n",
       "        -5.87735834e-16,   6.47907767e-17,   1.23432679e-15,\n",
       "        -1.02033057e-16,   5.36069188e-19,   5.59297795e-17,\n",
       "         7.38081112e-17,   6.38311013e-17,   3.56587869e-17,\n",
       "        -1.04879497e-18,  -3.66316074e-17,  -6.14296134e-17,\n",
       "        -6.57827759e-17,  -4.00310578e-17,   2.54855777e-17,\n",
       "         1.39434192e-16,  -2.62142483e-19,   1.79014200e-19,\n",
       "         3.83848688e-19,   4.05714878e-19,   2.97966671e-19,\n",
       "         1.13957963e-19,  -9.29573465e-20,  -2.69425359e-19,\n",
       "        -3.62092176e-19,  -3.17603898e-19,  -8.26066288e-20,\n",
       "         3.96253532e-19,  -1.54380947e-22,  -1.06399532e-25,\n",
       "         8.34805478e-23,   1.10815536e-22,   9.63342047e-23,\n",
       "         5.44721957e-23,  -3.34850498e-25,  -5.36512932e-23,\n",
       "        -9.10414917e-23,  -9.80698052e-23,  -6.03005929e-23,\n",
       "         3.67017860e-23])"
      ]
     },
     "execution_count": 129,
     "metadata": {},
     "output_type": "execute_result"
    }
   ],
   "source": [
    "func(3,3,gauss,x)"
   ]
  },
  {
   "cell_type": "code",
   "execution_count": 127,
   "metadata": {},
   "outputs": [
    {
     "data": {
      "text/plain": [
       "array([ 2.])"
      ]
     },
     "execution_count": 127,
     "metadata": {},
     "output_type": "execute_result"
    }
   ],
   "source": [
    "weights(1)"
   ]
  },
  {
   "cell_type": "code",
   "execution_count": 128,
   "metadata": {},
   "outputs": [
    {
     "data": {
      "text/plain": [
       "array([ 0.  ,  0.01,  0.02,  0.03,  0.04,  0.05,  0.06,  0.07,  0.08,\n",
       "        0.09,  0.1 ,  0.11,  0.12,  0.13,  0.14,  0.15,  0.16,  0.17,\n",
       "        0.18,  0.19,  0.2 ,  0.21,  0.22,  0.23,  0.24,  0.25,  0.26,\n",
       "        0.27,  0.28,  0.29,  0.3 ,  0.31,  0.32,  0.33,  0.34,  0.35,\n",
       "        0.36,  0.37,  0.38,  0.39,  0.4 ,  0.41,  0.42,  0.43,  0.44,\n",
       "        0.45,  0.46,  0.47,  0.48,  0.49,  0.5 ,  0.51,  0.52,  0.53,\n",
       "        0.54,  0.55,  0.56,  0.57,  0.58,  0.59,  0.6 ,  0.61,  0.62,\n",
       "        0.63,  0.64,  0.65,  0.66,  0.67,  0.68,  0.69,  0.7 ,  0.71,\n",
       "        0.72,  0.73,  0.74,  0.75,  0.76,  0.77,  0.78,  0.79,  0.8 ,\n",
       "        0.81,  0.82,  0.83,  0.84,  0.85,  0.86,  0.87,  0.88,  0.89,\n",
       "        0.9 ,  0.91,  0.92,  0.93,  0.94,  0.95,  0.96,  0.97,  0.98,  0.99])"
      ]
     },
     "execution_count": 128,
     "metadata": {},
     "output_type": "execute_result"
    }
   ],
   "source": [
    "x"
   ]
  },
  {
   "cell_type": "code",
   "execution_count": 87,
   "metadata": {},
   "outputs": [
    {
     "data": {
      "text/plain": [
       "1.0"
      ]
     },
     "execution_count": 87,
     "metadata": {},
     "output_type": "execute_result"
    }
   ],
   "source": [
    "weights(2)[0]"
   ]
  },
  {
   "cell_type": "code",
   "execution_count": 59,
   "metadata": {
    "collapsed": true
   },
   "outputs": [],
   "source": [
    "test = Polynomials(2)\n",
    "x = np.arange(0,1,.01)"
   ]
  },
  {
   "cell_type": "code",
   "execution_count": 60,
   "metadata": {},
   "outputs": [
    {
     "data": {
      "text/plain": [
       "array([ 2.23606798,  2.10324554,  1.97310638,  1.84565051,  1.72087792,\n",
       "        1.5987886 ,  1.47938257,  1.36265983,  1.24862036,  1.13726417,\n",
       "        1.02859127,  0.92260165,  0.81929531,  0.71867225,  0.62073247,\n",
       "        0.52547597,  0.43290276,  0.34301283,  0.25580618,  0.17128281,\n",
       "        0.08944272,  0.01028591, -0.06618761, -0.13997786, -0.21108482,\n",
       "       -0.2795085 , -0.3452489 , -0.40830601, -0.46867985, -0.5263704 ,\n",
       "       -0.58137767, -0.63370166, -0.68334237, -0.7302998 , -0.77457395,\n",
       "       -0.81616481, -0.85507239, -0.8912967 , -0.92483772, -0.95569545,\n",
       "       -0.98386991, -1.00936109, -1.03216898, -1.05229359, -1.06973492,\n",
       "       -1.08449297, -1.09656774, -1.10595922, -1.11266743, -1.11669235,\n",
       "       -1.11803399, -1.11669235, -1.11266743, -1.10595922, -1.09656774,\n",
       "       -1.08449297, -1.06973492, -1.05229359, -1.03216898, -1.00936109,\n",
       "       -0.98386991, -0.95569545, -0.92483772, -0.8912967 , -0.85507239,\n",
       "       -0.81616481, -0.77457395, -0.7302998 , -0.68334237, -0.63370166,\n",
       "       -0.58137767, -0.5263704 , -0.46867985, -0.40830601, -0.3452489 ,\n",
       "       -0.2795085 , -0.21108482, -0.13997786, -0.06618761,  0.01028591,\n",
       "        0.08944272,  0.17128281,  0.25580618,  0.34301283,  0.43290276,\n",
       "        0.52547597,  0.62073247,  0.71867225,  0.81929531,  0.92260165,\n",
       "        1.02859127,  1.13726417,  1.24862036,  1.36265983,  1.47938257,\n",
       "        1.5987886 ,  1.72087792,  1.84565051,  1.97310638,  2.10324554])"
      ]
     },
     "execution_count": 60,
     "metadata": {},
     "output_type": "execute_result"
    }
   ],
   "source": [
    "test.legendre_polynomial()"
   ]
  },
  {
   "cell_type": "code",
   "execution_count": 13,
   "metadata": {},
   "outputs": [
    {
     "data": {
      "image/png": "[encoded data removed]",
      "text/plain": [
       "<matplotlib.figure.Figure at 0x7f553f0ebdd8>"
      ]
     },
     "metadata": {},
     "output_type": "display_data"
    }
   ],
   "source": [
    "x = np.arange(0,1,.01)\n",
    "plt.plot(x, gauss(x))\n",
    "plt.show()"
   ]
  },
  {
   "cell_type": "code",
   "execution_count": 10,
   "metadata": {},
   "outputs": [
    {
     "data": {
      "image/png": "[encoded data removed]",
      "text/plain": [
       "<matplotlib.figure.Figure at 0x7fc930973b38>"
      ]
     },
     "metadata": {},
     "output_type": "display_data"
    }
   ],
   "source": [
    "plt.plot(x,sc.scaling(4,2,3,x))\n",
    "plt.show()"
   ]
  },
  {
   "cell_type": "code",
   "execution_count": 11,
   "metadata": {
    "collapsed": true
   },
   "outputs": [],
   "source": [
    "def np_scaling(order,f):\n",
    "    x = np.arange(0,1,.01)\n",
    "    \n",
    "    return np.trapz(sc.legendre_polynomial(order,x)*f(x),dx=0.01)\n",
    "\n",
    "def test_scaling(order,f):\n",
    "    tmp = 0\n",
    "    w = sc.weights(order)\n",
    "    x = sc.roots(order)\n",
    "    \n",
    "    for q in range(0,order):\n",
    "        tmp = tmp + w[q]*f(x[q])*sc.legendre_polynomial(order,float(x[q]))\n",
    "    return tmp"
   ]
  },
  {
   "cell_type": "code",
   "execution_count": 31,
   "metadata": {},
   "outputs": [
    {
     "data": {
      "text/plain": [
       "2.3022234156335751e-05"
      ]
     },
     "execution_count": 31,
     "metadata": {},
     "output_type": "execute_result"
    }
   ],
   "source": [
    "np_scaling(4,gauss)"
   ]
  },
  {
   "cell_type": "code",
   "execution_count": 12,
   "metadata": {},
   "outputs": [
    {
     "data": {
      "text/plain": [
       "3.0188578568056872e-18"
      ]
     },
     "execution_count": 12,
     "metadata": {},
     "output_type": "execute_result"
    }
   ],
   "source": [
    "test_scaling(4,gauss)"
   ]
  },
  {
   "cell_type": "code",
   "execution_count": 8,
   "metadata": {},
   "outputs": [
    {
     "data": {
      "text/plain": [
       "2.3022234156335751e-05"
      ]
     },
     "execution_count": 8,
     "metadata": {},
     "output_type": "execute_result"
    }
   ],
   "source": [
    " sc.approximated_scaling_coef(4,2,0,gauss)"
   ]
  },
  {
   "cell_type": "code",
   "execution_count": 14,
   "metadata": {},
   "outputs": [
    {
     "data": {
      "text/plain": [
       "2.352279019597368e-05"
      ]
     },
     "execution_count": 14,
     "metadata": {},
     "output_type": "execute_result"
    }
   ],
   "source": [
    "scaling_coef(4,11,2,0,gauss)*.5"
   ]
  },
  {
   "cell_type": "code",
   "execution_count": 3,
   "metadata": {
    "collapsed": true
   },
   "outputs": [],
   "source": [
    "x = np.arange(0,1,.01)\n",
    "plt.plot(x,)"
   ]
  },
  {
   "cell_type": "code",
   "execution_count": 1,
   "metadata": {
    "collapsed": true
   },
   "outputs": [],
   "source": [
    "class Scaling:\n",
    "    \n",
    "    def __init__(self,projectionOrder):\n",
    "        \n",
    "        self.projectionOrder = projectionOrder +1 \n",
    "        #The quadrature and weights are a scale higer than the max order\n",
    "        self.roots = self.rootsOfLeg()\n",
    "        self.weights = self.weightsOfLeg()\n",
    "        self.plot_range = np.arange(0,1,0.01)\n",
    "        \n",
    "        \n",
    "\n",
    "    def rootsOfLeg(self):\n",
    "        coef=[]\n",
    "        for n in range(0,self.projectionOrder+1):\n",
    "            if n == self.projectionOrder:\n",
    "                coef.append(1)\n",
    "            else:\n",
    "                coef.append(0)\n",
    "        return .5*(leg.legroots(coef)+1)\n",
    "    \n",
    "    def weightsOfLeg(self):\n",
    "\n",
    "        x = self.roots\n",
    "        w = np.empty(self.projectionOrder)\n",
    "        coef = []\n",
    "        for n in range(0, self.projectionOrder+1):\n",
    "            if(n == self.projectionOrder):\n",
    "                coef.append(1)\n",
    "            else:\n",
    "                coef.append(0)\n",
    "\n",
    "        derivative_coefficients = leg.legder(coef)\n",
    "        del coef[-1]\n",
    "        del coef[-1]\n",
    "        coef.append(1)\n",
    "        for i in range(0,self.projectionOrder):\n",
    "            w[i] = 1/(self.projectionOrder*leg.Legendre(derivative_coefficients, domain=[-1,1])(2*x[i] -1)* \\\n",
    "                leg.Legendre(coef, domain = [-1,1])(2*x[i]-1))\n",
    "                #possibly some bug here, get a factor 2 different using mathematica\n",
    "        return w\n",
    "    \n",
    "    def legendrePolynomial(self,order,x):\n",
    "        coef = []\n",
    "        if type(x) is float:\n",
    "\n",
    "            if x<= 0 or x>1:\n",
    "                return 0\n",
    "            else:\n",
    "                for n in range(0, order+1):\n",
    "                    if(n == order):\n",
    "                        coef.append(1)\n",
    "                    else:\n",
    "                        coef.append(0)\n",
    "                return (2.*order +1.)**.5*leg.Legendre(coef, domain=[-1,1])(2*x-1)\n",
    "        else:\n",
    "            y = np.zeros(x.size)\n",
    "\n",
    "            for i in range(x.size):\n",
    "\n",
    "                if x[i] <= 0 or x[i] > 1:\n",
    "                    y[i] = 0\n",
    "                else:\n",
    "                    for n in range(0, order+1):\n",
    "                        if(n == order):\n",
    "                            coef.append(1)\n",
    "                        else:\n",
    "                            coef.append(0)\n",
    "\n",
    "                    y[i]=(2.*order +1.)**.5*leg.Legendre(coef, domain=[-1,1])(2*x[i]-1)\n",
    "                    coef.clear()\n",
    "        return y\n",
    "    \n",
    "    def scaling(self,order,scale, translation,x):\n",
    "        return 2**(scale/2)*self.legendrePolynomial(order,2**scale*x-translation)\n",
    "    \n",
    "    def scalingCoef(self,order,scale,translation,f):\n",
    "\n",
    "        tmp = 0;\n",
    "        w = self.weights\n",
    "        x = self.roots\n",
    "        for q in range(0,w.size):\n",
    "            tmp=tmp + w[q]*f(2**(-scale)*(x[q]+translation))*self.legendrePolynomial(order,float(x[q]))\n",
    "        return 2**(-.5*scale)*tmp\n",
    "    \n",
    "    def funcProj(self,scale,f,x):\n",
    "        tmp = 0\n",
    "        for j in range(0,self.projectionOrder):\n",
    "            for l in range(0,2**scale):\n",
    "                tmp = tmp+self.scalingCoef(j,scale,l,f)*self.scaling(j,scale,l,x)\n",
    "        return tmp\n",
    "    \n",
    "    def plotFunc(self,f):\n",
    "        plt.plot(self.plot_range,self.funcProj(self.projectionOrder,f,self.plot_range))\n",
    "        plt.show()\n",
    "    "
   ]
  },
  {
   "cell_type": "code",
   "execution_count": 25,
   "metadata": {},
   "outputs": [
    {
     "data": {
      "text/plain": [
       "array([ 0.03376524,  0.16939531,  0.38069041,  0.61930959,  0.83060469,\n",
       "        0.96623476])"
      ]
     },
     "execution_count": 25,
     "metadata": {},
     "output_type": "execute_result"
    }
   ],
   "source": [
    "test = Scaling(5)\n",
    "test.roots"
   ]
  },
  {
   "cell_type": "code",
   "execution_count": 26,
   "metadata": {},
   "outputs": [
    {
     "data": {
      "text/plain": [
       "array([ 0.08566225,  0.18038079,  0.23395697,  0.23395697,  0.18038079,\n",
       "        0.08566225])"
      ]
     },
     "execution_count": 26,
     "metadata": {},
     "output_type": "execute_result"
    }
   ],
   "source": [
    "test.weights"
   ]
  },
  {
   "cell_type": "code",
   "execution_count": 28,
   "metadata": {},
   "outputs": [
    {
     "data": {
      "image/png": "[encoded data removed]",
      "text/plain": [
       "<matplotlib.figure.Figure at 0x7fc1cc780a90>"
      ]
     },
     "metadata": {},
     "output_type": "display_data"
    }
   ],
   "source": [
    "test.plotFunc(ftest)"
   ]
  },
  {
   "cell_type": "code",
   "execution_count": 10,
   "metadata": {},
   "outputs": [
    {
     "data": {
      "text/plain": [
       "-0.58137767414994523"
      ]
     },
     "execution_count": 10,
     "metadata": {},
     "output_type": "execute_result"
    }
   ],
   "source": [
    "test.legendrePolynomial(2,.3)"
   ]
  },
  {
   "cell_type": "code",
   "execution_count": 11,
   "metadata": {},
   "outputs": [
    {
     "data": {
      "text/plain": [
       "-0.58137767414994523"
      ]
     },
     "execution_count": 11,
     "metadata": {},
     "output_type": "execute_result"
    }
   ],
   "source": [
    "test.scaling(2,0,0,.3)"
   ]
  },
  {
   "cell_type": "code",
   "execution_count": 12,
   "metadata": {},
   "outputs": [
    {
     "data": {
      "text/plain": [
       "0.58778525229247314"
      ]
     },
     "execution_count": 12,
     "metadata": {},
     "output_type": "execute_result"
    }
   ],
   "source": [
    "ftest(.1)"
   ]
  },
  {
   "cell_type": "code",
   "execution_count": 13,
   "metadata": {
    "collapsed": true
   },
   "outputs": [],
   "source": [
    "def ftest(x):\n",
    "    return np.sin(2.0*np.pi*x)"
   ]
  },
  {
   "cell_type": "code",
   "execution_count": 14,
   "metadata": {},
   "outputs": [
    {
     "data": {
      "text/plain": [
       "-0.030205201434299837"
      ]
     },
     "execution_count": 14,
     "metadata": {},
     "output_type": "execute_result"
    }
   ],
   "source": [
    "test.scalingCoef(1,3,2,ftest)"
   ]
  },
  {
   "cell_type": "code",
   "execution_count": 15,
   "metadata": {},
   "outputs": [
    {
     "data": {
      "text/plain": [
       "0.58778525230177781"
      ]
     },
     "execution_count": 15,
     "metadata": {},
     "output_type": "execute_result"
    }
   ],
   "source": [
    "test.funcProj(5,ftest,.1)"
   ]
  },
  {
   "cell_type": "code",
   "execution_count": 19,
   "metadata": {},
   "outputs": [
    {
     "data": {
      "text/plain": [
       "[<matplotlib.lines.Line2D at 0x7fc1cc2f2e10>,\n",
       " <matplotlib.lines.Line2D at 0x7fc1cc2f2fd0>]"
      ]
     },
     "execution_count": 19,
     "metadata": {},
     "output_type": "execute_result"
    }
   ],
   "source": [
    "plt.plot(test.plot_range, test.funcProj(5,ftest,test.plot_range),test.plot_range,ftest(test.plot_range))"
   ]
  },
  {
   "cell_type": "code",
   "execution_count": 20,
   "metadata": {},
   "outputs": [
    {
     "data": {
      "image/png": "[encoded data removed]",
      "text/plain": [
       "<matplotlib.figure.Figure at 0x7fc1cc479a58>"
      ]
     },
     "metadata": {},
     "output_type": "display_data"
    }
   ],
   "source": [
    "plt.show()"
   ]
  },
  {
   "cell_type": "code",
   "execution_count": null,
   "metadata": {
    "collapsed": true
   },
   "outputs": [],
   "source": []
  }
 ],
 "metadata": {
  "kernelspec": {
   "display_name": "Python 3",
   "language": "python",
   "name": "python3"
  },
  "language_info": {
   "codemirror_mode": {
    "name": "ipython",
    "version": 3
   },
   "file_extension": ".py",
   "mimetype": "text/x-python",
   "name": "python",
   "nbconvert_exporter": "python",
   "pygments_lexer": "ipython3",
   "version": "3.6.2"
  }
 },
 "nbformat": 4,
 "nbformat_minor": 2
}
