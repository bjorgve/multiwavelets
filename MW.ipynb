{
 "cells": [
  {
   "cell_type": "code",
   "execution_count": 286,
   "metadata": {},
   "outputs": [],
   "source": [
    "import numpy as np\n",
    "import matplotlib.pyplot as plt\n",
    "import numpy.polynomial.legendre as leg\n",
    "\n",
    "\n",
    "def gauss(x):\n",
    "    return np.exp(-100*(x-.5)**2)\n",
    "\n",
    "def legendre_polynomial(order, x):\n",
    "    coef = []\n",
    "    if type(x) is float:\n",
    "       # print(\"here\")\n",
    "        if x<0 or x>1:\n",
    "            return 0\n",
    "        else:\n",
    "            for n in range(0, order+1):\n",
    "                if(n == order):\n",
    "                    coef.append(1)\n",
    "                else:\n",
    "                    coef.append(0)\n",
    "            return leg.Legendre(coef, domain=[0,1])(x)\n",
    "    else:\n",
    "        y = np.zeros(x.size)\n",
    "        for i in range(x.size):\n",
    "           # print(i)\n",
    "            if x[i] < 0 or x[i] > 1:\n",
    "                y[i] = 0\n",
    "            else:\n",
    "                for n in range(0, order+1):\n",
    "                    if(n == order):\n",
    "                        coef.append(1)\n",
    "                    else:\n",
    "                        coef.append(0)\n",
    "               # print(coef)\n",
    "                #print(x[i])\n",
    "                #print(y[i])\n",
    "                y[i]=leg.Legendre(coef, domain=[0,1])(x[i])\n",
    "                coef.clear()\n",
    "   #             print(y[i])\n",
    "    return y\n",
    "        \n",
    "def scaling(order,scale, translation,x):\n",
    "    return 2**(scale/2)*legendre_polynomial(order,2**scale*x-translation)\n",
    "\n",
    "def scaling_coef(order,scale,translation)\n",
    "\n",
    "def testLegendre(f,order,x):\n",
    "    y = np.zeros(x.size)\n",
    "   # print(y)\n",
    "    for i in range(y.size):\n",
    "       # print(type(x[i]))\n",
    "        y[i]= f(order,float(x[i]))\n",
    "    return y"
   ]
  },
  {
   "cell_type": "code",
   "execution_count": 287,
   "metadata": {
    "collapsed": true
   },
   "outputs": [],
   "source": [
    "x=np.arange(0, 1, 0.01)"
   ]
  },
  {
   "cell_type": "code",
   "execution_count": 299,
   "metadata": {},
   "outputs": [
    {
     "data": {
      "image/png": "[encoded data removed]",
      "text/plain": [
       "<matplotlib.figure.Figure at 0x7f8f871de400>"
      ]
     },
     "metadata": {},
     "output_type": "display_data"
    }
   ],
   "source": [
    "plt.plot(x, scaling(10,3,1,x))\n",
    "plt.show()"
   ]
  },
  {
   "cell_type": "code",
   "execution_count": null,
   "metadata": {
    "collapsed": true
   },
   "outputs": [],
   "source": []
  },
  {
   "cell_type": "code",
   "execution_count": null,
   "metadata": {
    "collapsed": true
   },
   "outputs": [],
   "source": []
  },
  {
   "cell_type": "code",
   "execution_count": null,
   "metadata": {
    "collapsed": true
   },
   "outputs": [],
   "source": []
  }
 ],
 "metadata": {
  "kernelspec": {
   "display_name": "Python 3",
   "language": "python",
   "name": "python3"
  },
  "language_info": {
   "codemirror_mode": {
    "name": "ipython",
    "version": 3
   },
   "file_extension": ".py",
   "mimetype": "text/x-python",
   "name": "python",
   "nbconvert_exporter": "python",
   "pygments_lexer": "ipython3",
   "version": "3.6.2"
  }
 },
 "nbformat": 4,
 "nbformat_minor": 2
}
