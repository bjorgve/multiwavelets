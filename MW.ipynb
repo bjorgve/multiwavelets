{
 "cells": [
  {
   "cell_type": "code",
   "execution_count": 124,
   "metadata": {},
   "outputs": [],
   "source": [
    "import numpy as np\n",
    "import matplotlib.pyplot as plt\n",
    "import numpy.polynomial.legendre as leg\n",
    "\n",
    "class Polynomials():\n",
    "    def __init__(self, order):\n",
    "        self.x = np.arange(0,1,.01)\n",
    "        self.order = order\n",
    "    def legendre_polynomial(self):\n",
    "        coef = []\n",
    "        if type(x) is float:\n",
    "           # print(\"here\")\n",
    "            if x<0 or x>1:\n",
    "                return 0\n",
    "            else:\n",
    "                for n in range(0, self.order+1):\n",
    "                    if(n == self.order):\n",
    "                        coef.append(1)\n",
    "                    else:\n",
    "                        coef.append(0)\n",
    "                return (2.*sefl.order +1.)**.5*leg.Legendre(coef, domain=[-1,1])(2*x-1)\n",
    "        else:\n",
    "            y = np.zeros(x.size)\n",
    "            #print(y.shape)\n",
    "            for i in range(x.size):\n",
    "               # print(i)\n",
    "                if x[i] < 0 or x[i] > 1:\n",
    "                    y[i] = 0\n",
    "                else:\n",
    "                    for n in range(0, self.order+1):\n",
    "                        if(n == self.order):\n",
    "                            coef.append(1)\n",
    "                        else:\n",
    "                            coef.append(0)\n",
    "                    y[i]=(2.*self.order +1.)**.5*leg.Legendre(coef, domain=[-1,1])(2*x[i]-1)\n",
    "                    coef.clear()\n",
    "        return y\n",
    "        \n",
    "\n",
    "def gauss(x):\n",
    "    return np.exp(-100*(x-.5)**2)\n",
    "\n",
    "def legendre_polynomial(order, x):\n",
    "    coef = []\n",
    "    if type(x) is float:\n",
    "       # print(\"here\")\n",
    "        if x<0 or x>1:\n",
    "            return 0\n",
    "        else:\n",
    "            for n in range(0, order+1):\n",
    "                if(n == order):\n",
    "                    coef.append(1)\n",
    "                else:\n",
    "                    coef.append(0)\n",
    "            return (2.*order +1.)**.5*leg.Legendre(coef, domain=[-1,1])(2*x-1)\n",
    "    else:\n",
    "        y = np.zeros(x.size)\n",
    "        print(y.shape)\n",
    "        for i in range(x.size):\n",
    "           # print(i)\n",
    "            if x[i] < 0 or x[i] > 1:\n",
    "                y[i] = 0\n",
    "            else:\n",
    "                for n in range(0, order+1):\n",
    "                    if(n == order):\n",
    "                        coef.append(1)\n",
    "                    else:\n",
    "                        coef.append(0)\n",
    "               # print(coef)\n",
    "                #print(x[i])\n",
    "                #print(y[i])\n",
    "                y[i]=(2.*order +1.)**.5*leg.Legendre(coef, domain=[-1,1])(2*x[i]-1)\n",
    "                coef.clear()\n",
    "    return y\n",
    "\n",
    "    \n",
    "\n",
    "def scaling(order,scale, translation,x):\n",
    "    return 2**(scale/2)*legendre_polynomial(order,2**scale*x-translation)\n",
    "\n",
    "\n",
    "def scaling_coef(order,scale,translation,f):\n",
    "    tmp = 0;\n",
    "    w = weights(order)\n",
    "    x = roots(order)\n",
    "    print(type(x[0]))\n",
    "    for q in range(0,w.size):\n",
    "        tmp=tmp + w[q]*f(2**(-scale)*(x[q]+translation))*legendre_polynomial(order,float(x[q]))\n",
    "        print(tmp)\n",
    "    return 2**(-.5*scale)*tmp\n",
    "\n",
    "def roots(order):\n",
    "    coef=[]\n",
    "    for n in range(0,order+1):\n",
    "        if n == order:\n",
    "            coef.append(1)\n",
    "        else:\n",
    "            coef.append(0)\n",
    "    return .5*(leg.legroots(coef)+1)\n",
    "\n",
    "def weights(order):\n",
    "    return leg.leggauss(order)[1]\n",
    "\n",
    "def testLegendre(f,order,x):\n",
    "    y = np.zeros(x.size)\n",
    "   # print(y)\n",
    "    for i in range(y.size):\n",
    "       # print(type(x[i]))\n",
    "        y[i]= f(order,float(x[i]))\n",
    "    return y\n",
    "\n",
    "\n",
    "def seclegendre(x):\n",
    "    return legendre_polynomial(3,x)\n",
    "\n",
    "def func(scale,max_order,f,x):\n",
    "    tmp = 0\n",
    "    for j in range(1,max_order+1):\n",
    "        for l in range(0,2**scale):\n",
    "            tmp = tmp+scaling_coef(j,scale,l,f)*scaling(j,scale,l,x)\n",
    "    return tmp"
   ]
  },
  {
   "cell_type": "code",
   "execution_count": 125,
   "metadata": {},
   "outputs": [],
   "source": [
    "from scipy import optimize\n",
    "root = optimize.brenth(seclegendre,0,.3)"
   ]
  },
  {
   "cell_type": "code",
   "execution_count": 129,
   "metadata": {},
   "outputs": [
    {
     "name": "stdout",
     "output_type": "stream",
     "text": [
      "<class 'numpy.float64'>\n",
      "0.0\n",
      "(100,)\n",
      "<class 'numpy.float64'>\n",
      "0.0\n",
      "(100,)\n",
      "<class 'numpy.float64'>\n",
      "0.0\n",
      "(100,)\n",
      "<class 'numpy.float64'>\n",
      "0.0\n",
      "(100,)\n",
      "<class 'numpy.float64'>\n",
      "0.0\n",
      "(100,)\n",
      "<class 'numpy.float64'>\n",
      "0.0\n",
      "(100,)\n",
      "<class 'numpy.float64'>\n",
      "0.0\n",
      "(100,)\n",
      "<class 'numpy.float64'>\n",
      "0.0\n",
      "(100,)\n",
      "<class 'numpy.float64'>\n",
      "-2.25638958217e-26\n",
      "7.48003264149e-23\n",
      "(100,)\n",
      "<class 'numpy.float64'>\n",
      "-6.55701474154e-22\n",
      "3.57246147442e-19\n",
      "(100,)\n",
      "<class 'numpy.float64'>\n",
      "-8.37197606898e-19\n",
      "7.43810389665e-17\n",
      "(100,)\n",
      "<class 'numpy.float64'>\n",
      "-4.69655638318e-17\n",
      "6.47598160423e-16\n",
      "(100,)\n",
      "<class 'numpy.float64'>\n",
      "-1.15760620709e-16\n",
      "1.66032762281e-16\n",
      "(100,)\n",
      "<class 'numpy.float64'>\n",
      "-1.25363727622e-17\n",
      "-7.51318712085e-18\n",
      "(100,)\n",
      "<class 'numpy.float64'>\n",
      "-5.96503081527e-20\n",
      "-5.57160993078e-20\n",
      "(100,)\n",
      "<class 'numpy.float64'>\n",
      "-1.24704817185e-23\n",
      "-1.23350983435e-23\n",
      "(100,)\n",
      "<class 'numpy.float64'>\n",
      "1.81784530875e-26\n",
      "1.92464930072e-24\n",
      "4.53692077466e-23\n",
      "(100,)\n",
      "<class 'numpy.float64'>\n",
      "7.18947986128e-22\n",
      "2.31960820846e-20\n",
      "1.7588811438e-19\n",
      "(100,)\n",
      "<class 'numpy.float64'>\n",
      "1.24930294387e-18\n",
      "1.28927466687e-17\n",
      "3.64718403244e-17\n",
      "(100,)\n",
      "<class 'numpy.float64'>\n",
      "9.53823018988e-17\n",
      "3.60385859603e-16\n",
      "5.203665562e-16\n",
      "(100,)\n",
      "<class 'numpy.float64'>\n",
      "3.19961393194e-16\n",
      "5.84964950898e-16\n",
      "6.32656101847e-16\n",
      "(100,)\n",
      "<class 'numpy.float64'>\n",
      "4.71581873113e-17\n",
      "5.88016310362e-17\n",
      "5.94262825081e-17\n",
      "(100,)\n",
      "<class 'numpy.float64'>\n",
      "3.0538406459e-19\n",
      "3.27861198688e-19\n",
      "3.28220672681e-19\n",
      "(100,)\n",
      "<class 'numpy.float64'>\n",
      "8.68891168918e-23\n",
      "8.87955877394e-23\n",
      "8.8804676966e-23\n",
      "(100,)\n"
     ]
    },
    {
     "data": {
      "text/plain": [
       "array([  4.72229737e-23,   6.67781067e-23,   6.04600049e-23,\n",
       "         3.56436582e-23,  -2.95943701e-25,  -3.99838110e-23,\n",
       "        -7.60449539e-23,  -1.01104383e-22,  -1.07787107e-22,\n",
       "        -8.87181385e-23,  -3.65224861e-23,   5.61748395e-23,\n",
       "         1.96748828e-22,   3.51050335e-19,   3.12495652e-19,\n",
       "         1.99481302e-19,   4.05987697e-20,  -1.35560460e-19,\n",
       "        -3.00404900e-19,  -4.25343067e-19,  -4.81783474e-19,\n",
       "        -4.41134635e-19,  -2.74805066e-19,   4.57967189e-20,\n",
       "         5.49262206e-19,   7.10898229e-17,   7.14748554e-17,\n",
       "         5.47719656e-17,   2.56456493e-17,  -9.97541500e-18,\n",
       "        -4.61625487e-17,  -7.69870732e-17,  -9.65203101e-17,\n",
       "        -9.88335806e-17,  -7.79982063e-17,  -2.80855086e-17,\n",
       "         5.68331911e-17,   1.82686571e-16,   3.34199663e-16,\n",
       "         5.89169060e-16,   5.53556720e-16,   3.11950806e-16,\n",
       "        -5.10605166e-17,  -4.50889082e-16,  -8.02946726e-16,\n",
       "        -1.02264528e-15,  -1.02539659e-15,  -7.26612478e-16,\n",
       "        -4.17047845e-17,   1.11391466e-15,   1.52224384e-15,\n",
       "        -1.63881246e-16,   4.63423199e-16,   6.82164557e-16,\n",
       "         5.95184215e-16,   3.05323560e-16,  -8.45760196e-17,\n",
       "        -4.71673137e-16,  -7.53126403e-16,  -8.26094432e-16,\n",
       "        -5.87735834e-16,   6.47907767e-17,   1.23432679e-15,\n",
       "        -1.02033057e-16,   5.36069188e-19,   5.59297795e-17,\n",
       "         7.38081112e-17,   6.38311013e-17,   3.56587869e-17,\n",
       "        -1.04879497e-18,  -3.66316074e-17,  -6.14296134e-17,\n",
       "        -6.57827759e-17,  -4.00310578e-17,   2.54855777e-17,\n",
       "         1.39434192e-16,  -2.62142483e-19,   1.79014200e-19,\n",
       "         3.83848688e-19,   4.05714878e-19,   2.97966671e-19,\n",
       "         1.13957963e-19,  -9.29573465e-20,  -2.69425359e-19,\n",
       "        -3.62092176e-19,  -3.17603898e-19,  -8.26066288e-20,\n",
       "         3.96253532e-19,  -1.54380947e-22,  -1.06399532e-25,\n",
       "         8.34805478e-23,   1.10815536e-22,   9.63342047e-23,\n",
       "         5.44721957e-23,  -3.34850498e-25,  -5.36512932e-23,\n",
       "        -9.10414917e-23,  -9.80698052e-23,  -6.03005929e-23,\n",
       "         3.67017860e-23])"
      ]
     },
     "execution_count": 129,
     "metadata": {},
     "output_type": "execute_result"
    }
   ],
   "source": [
    "func(3,3,gauss,x)"
   ]
  },
  {
   "cell_type": "code",
   "execution_count": 127,
   "metadata": {},
   "outputs": [
    {
     "data": {
      "text/plain": [
       "array([ 2.])"
      ]
     },
     "execution_count": 127,
     "metadata": {},
     "output_type": "execute_result"
    }
   ],
   "source": [
    "weights(1)"
   ]
  },
  {
   "cell_type": "code",
   "execution_count": 128,
   "metadata": {},
   "outputs": [
    {
     "data": {
      "text/plain": [
       "array([ 0.  ,  0.01,  0.02,  0.03,  0.04,  0.05,  0.06,  0.07,  0.08,\n",
       "        0.09,  0.1 ,  0.11,  0.12,  0.13,  0.14,  0.15,  0.16,  0.17,\n",
       "        0.18,  0.19,  0.2 ,  0.21,  0.22,  0.23,  0.24,  0.25,  0.26,\n",
       "        0.27,  0.28,  0.29,  0.3 ,  0.31,  0.32,  0.33,  0.34,  0.35,\n",
       "        0.36,  0.37,  0.38,  0.39,  0.4 ,  0.41,  0.42,  0.43,  0.44,\n",
       "        0.45,  0.46,  0.47,  0.48,  0.49,  0.5 ,  0.51,  0.52,  0.53,\n",
       "        0.54,  0.55,  0.56,  0.57,  0.58,  0.59,  0.6 ,  0.61,  0.62,\n",
       "        0.63,  0.64,  0.65,  0.66,  0.67,  0.68,  0.69,  0.7 ,  0.71,\n",
       "        0.72,  0.73,  0.74,  0.75,  0.76,  0.77,  0.78,  0.79,  0.8 ,\n",
       "        0.81,  0.82,  0.83,  0.84,  0.85,  0.86,  0.87,  0.88,  0.89,\n",
       "        0.9 ,  0.91,  0.92,  0.93,  0.94,  0.95,  0.96,  0.97,  0.98,  0.99])"
      ]
     },
     "execution_count": 128,
     "metadata": {},
     "output_type": "execute_result"
    }
   ],
   "source": [
    "x"
   ]
  },
  {
   "cell_type": "code",
   "execution_count": 87,
   "metadata": {},
   "outputs": [
    {
     "data": {
      "text/plain": [
       "1.0"
      ]
     },
     "execution_count": 87,
     "metadata": {},
     "output_type": "execute_result"
    }
   ],
   "source": [
    "weights(2)[0]"
   ]
  },
  {
   "cell_type": "code",
   "execution_count": 59,
   "metadata": {},
   "outputs": [],
   "source": [
    "test = Polynomials(2)\n",
    "x = np.arange(0,1,.01)"
   ]
  },
  {
   "cell_type": "code",
   "execution_count": 60,
   "metadata": {},
   "outputs": [
    {
     "data": {
      "text/plain": [
       "array([ 2.23606798,  2.10324554,  1.97310638,  1.84565051,  1.72087792,\n",
       "        1.5987886 ,  1.47938257,  1.36265983,  1.24862036,  1.13726417,\n",
       "        1.02859127,  0.92260165,  0.81929531,  0.71867225,  0.62073247,\n",
       "        0.52547597,  0.43290276,  0.34301283,  0.25580618,  0.17128281,\n",
       "        0.08944272,  0.01028591, -0.06618761, -0.13997786, -0.21108482,\n",
       "       -0.2795085 , -0.3452489 , -0.40830601, -0.46867985, -0.5263704 ,\n",
       "       -0.58137767, -0.63370166, -0.68334237, -0.7302998 , -0.77457395,\n",
       "       -0.81616481, -0.85507239, -0.8912967 , -0.92483772, -0.95569545,\n",
       "       -0.98386991, -1.00936109, -1.03216898, -1.05229359, -1.06973492,\n",
       "       -1.08449297, -1.09656774, -1.10595922, -1.11266743, -1.11669235,\n",
       "       -1.11803399, -1.11669235, -1.11266743, -1.10595922, -1.09656774,\n",
       "       -1.08449297, -1.06973492, -1.05229359, -1.03216898, -1.00936109,\n",
       "       -0.98386991, -0.95569545, -0.92483772, -0.8912967 , -0.85507239,\n",
       "       -0.81616481, -0.77457395, -0.7302998 , -0.68334237, -0.63370166,\n",
       "       -0.58137767, -0.5263704 , -0.46867985, -0.40830601, -0.3452489 ,\n",
       "       -0.2795085 , -0.21108482, -0.13997786, -0.06618761,  0.01028591,\n",
       "        0.08944272,  0.17128281,  0.25580618,  0.34301283,  0.43290276,\n",
       "        0.52547597,  0.62073247,  0.71867225,  0.81929531,  0.92260165,\n",
       "        1.02859127,  1.13726417,  1.24862036,  1.36265983,  1.47938257,\n",
       "        1.5987886 ,  1.72087792,  1.84565051,  1.97310638,  2.10324554])"
      ]
     },
     "execution_count": 60,
     "metadata": {},
     "output_type": "execute_result"
    }
   ],
   "source": [
    "test.legendre_polynomial()"
   ]
  },
  {
   "cell_type": "code",
   "execution_count": 61,
   "metadata": {},
   "outputs": [
    {
     "data": {
      "image/png": "[encoded data removed]",
      "text/plain": [
       "<matplotlib.figure.Figure at 0x7f90a8a14208>"
      ]
     },
     "metadata": {},
     "output_type": "display_data"
    }
   ],
   "source": [
    "plt.plot(x, test.legendre_polynomial())\n",
    "plt.show()"
   ]
  },
  {
   "cell_type": "code",
   "execution_count": 12,
   "metadata": {},
   "outputs": [
    {
     "name": "stdout",
     "output_type": "stream",
     "text": [
      "(100,)\n"
     ]
    },
    {
     "data": {
      "image/png": "[encoded data removed]",
      "text/plain": [
       "<matplotlib.figure.Figure at 0x7f90a8800860>"
      ]
     },
     "metadata": {},
     "output_type": "display_data"
    }
   ],
   "source": [
    "plt.plot(x,scaling(1,1,0,x))\n",
    "plt.show()"
   ]
  },
  {
   "cell_type": "code",
   "execution_count": null,
   "metadata": {
    "collapsed": true
   },
   "outputs": [],
   "source": []
  },
  {
   "cell_type": "code",
   "execution_count": null,
   "metadata": {
    "collapsed": true
   },
   "outputs": [],
   "source": []
  }
 ],
 "metadata": {
  "kernelspec": {
   "display_name": "Python 3",
   "language": "python",
   "name": "python3"
  },
  "language_info": {
   "codemirror_mode": {
    "name": "ipython",
    "version": 3
   },
   "file_extension": ".py",
   "mimetype": "text/x-python",
   "name": "python",
   "nbconvert_exporter": "python",
   "pygments_lexer": "ipython3",
   "version": "3.6.2"
  }
 },
 "nbformat": 4,
 "nbformat_minor": 2
}
