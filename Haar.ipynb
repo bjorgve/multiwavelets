{
 "cells": [
  {
   "cell_type": "code",
   "execution_count": 77,
   "metadata": {},
   "outputs": [
    {
     "data": {
      "image/png": "[encoded data removed]",
      "text/plain": [
       "<matplotlib.figure.Figure at 0x7f1fb1f0d9e8>"
      ]
     },
     "metadata": {},
     "output_type": "display_data"
    }
   ],
   "source": [
    "import numpy as np\n",
    "import matplotlib.pyplot as plt\n",
    "\n",
    "def gauss(x):\n",
    "    return np.exp(-100*(x-.5)**2)\n",
    "\n",
    "def chi(x):\n",
    "    if type(x) is int or float == True:\n",
    "        if x < 0 or x > 1:\n",
    "            return 0\n",
    "        else: \n",
    "            return 1\n",
    "    else:\n",
    "        y = np.empty(x.shape)\n",
    "        for i in range(x.size):\n",
    "            if x[i] < 0 or x[i] > 1:\n",
    "                y[i]=0\n",
    "            else:\n",
    "                y[i]=1\n",
    "        return y\n",
    "            \n",
    "    \n",
    "def haar(x):\n",
    "    return chi(2*x) - chi(2*x-1)\n",
    "\n",
    "def chijk(j,k,x):\n",
    "    return 2**(j/2)*chi(2**j * x -k)\n",
    "\n",
    "def haarjk(j,k,x):\n",
    "    return 2**(j/2)*haar(2**j * x -k)\n",
    "\n",
    "\n",
    "def snk_start(f,n,k): \n",
    "    return 2**(n/2)* np.trapz(f(  np.arange(2**(-n)*k,2**(-n)*(k+1),0.00001) ),dx= 0.00001)\n",
    "\n",
    "def snk(f,n,k):\n",
    "    return 1/np.sqrt(2)*(snk_start(f,n+1,2*k)+snk_start(f,n+1,2*k+1))\n",
    "\n",
    "def dnk(f,n,k):\n",
    "    return 1/np.sqrt(2)*(snk_start(f,n+1,2*k)-snk_start(f,n+1,2*k+1))\n",
    "\n",
    "def f_proj(f,x,n):\n",
    "    tmp = chijk(n,0,x)*snk_start(f,n,0)\n",
    "    \n",
    "    for k in range(1,2**n):\n",
    "        tmp = tmp + chijk(n,k,x)*snk(f,n,k)\n",
    "    return tmp\n",
    "\n",
    "\n",
    "x=np.arange(0.0, 1, 0.003)\n",
    "\n",
    "\n",
    "plt.plot(x,f_proj(gauss,x,10),x,gauss(x))\n",
    "plt.show()"
   ]
  },
  {
   "cell_type": "code",
   "execution_count": 79,
   "metadata": {
    "collapsed": true
   },
   "outputs": [],
   "source": [
    "t = np.arange(0.0, 2.0, 0.01)\n",
    "s = 1 + np.sin(2*np.pi*t)"
   ]
  },
  {
   "cell_type": "code",
   "execution_count": 73,
   "metadata": {},
   "outputs": [
    {
     "data": {
      "text/plain": [
       "6"
      ]
     },
     "execution_count": 73,
     "metadata": {},
     "output_type": "execute_result"
    }
   ],
   "source": [
    "x = 3\n",
    "test(x)"
   ]
  },
  {
   "cell_type": "code",
   "execution_count": 74,
   "metadata": {},
   "outputs": [
    {
     "data": {
      "text/plain": [
       "3"
      ]
     },
     "execution_count": 74,
     "metadata": {},
     "output_type": "execute_result"
    }
   ],
   "source": [
    "x"
   ]
  },
  {
   "cell_type": "code",
   "execution_count": 59,
   "metadata": {},
   "outputs": [
    {
     "name": "stdout",
     "output_type": "stream",
     "text": [
      "<class 'float'>\n"
     ]
    }
   ],
   "source": [
    "print(type(\"d\") is int or float)"
   ]
  },
  {
   "cell_type": "code",
   "execution_count": null,
   "metadata": {
    "collapsed": true
   },
   "outputs": [],
   "source": []
  }
 ],
 "metadata": {
  "kernelspec": {
   "display_name": "Python 3",
   "language": "python",
   "name": "python3"
  },
  "language_info": {
   "codemirror_mode": {
    "name": "ipython",
    "version": 3
   },
   "file_extension": ".py",
   "mimetype": "text/x-python",
   "name": "python",
   "nbconvert_exporter": "python",
   "pygments_lexer": "ipython3",
   "version": "3.6.2"
  }
 },
 "nbformat": 4,
 "nbformat_minor": 2
}
